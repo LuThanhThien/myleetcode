{
 "cells": [
  {
   "cell_type": "markdown",
   "metadata": {},
   "source": [
    "# 207. Course Schedule\n",
    "\n",
    "There are a total of numCourses courses you have to take, labeled from 0 to numCourses - 1. You are given an array prerequisites where prerequisites[i] = [ai, bi] indicates that you must take course bi first if you want to take course ai.\n",
    "\n",
    "For example, the pair [0, 1], indicates that to take course 0 you have to first take course 1.\n",
    "Return true if you can finish all courses. Otherwise, return false."
   ]
  },
  {
   "cell_type": "markdown",
   "metadata": {},
   "source": [
    "**Example 1:**\n",
    "- Input: numCourses = 2, prerequisites = [[1,0]]\n",
    "- Output: true\n",
    "- Explanation: There are a total of 2 courses to take. \n",
    "- To take course 1 you should have finished course 0. So it is possible.\n",
    "\n",
    "**Example 2:**\n",
    "- Input: numCourses = 2, prerequisites = [[1,0],[0,1]]\n",
    "- Output: false\n",
    "- Explanation: There are a total of 2 courses to take. \n",
    "- To take course 1 you should have finished course 0, and to take course 0 you should also have finished course 1. So it is impossible."
   ]
  },
  {
   "cell_type": "code",
   "execution_count": 32,
   "metadata": {},
   "outputs": [],
   "source": [
    "from common import TestCase, Tester\n",
    "from typing import List\n",
    "from collections import deque\n",
    "\n",
    "class Solution:\n",
    "    def canFinish(self, numCourses: int, prerequisites: List[List[int]]) -> bool:\n",
    "        # Graph represented as an adjacency list\n",
    "        adj = [[] for _ in range(numCourses)]\n",
    "\n",
    "        # Constructing adjacency list\n",
    "        for edge in prerequisites:\n",
    "            adj[edge[0]].append(edge[1])\n",
    "        \n",
    "        # Get number of in degree for every vertex\n",
    "        in_degree = [0 for _ in range(numCourses)]\n",
    "        for i in range(numCourses):\n",
    "            for vertex in adj[i]:\n",
    "                in_degree[vertex] += 1\n",
    "        \n",
    "        # Initilize queue\n",
    "        q = deque()\n",
    "        for i in range(numCourses):\n",
    "            if in_degree[i] == 0:\n",
    "                q.append(i)\n",
    "        \n",
    "        # Initiate index       \n",
    "        index = 0\n",
    "        while q:\n",
    "            at = q.popleft()\n",
    "            index += 1\n",
    "            for to in adj[at]:\n",
    "                in_degree[to] -= 1\n",
    "                if in_degree[to] == 0:\n",
    "                    q.append(to)\n",
    "        \n",
    "        if index != numCourses:\n",
    "            return False\n",
    "        \n",
    "        return True \n",
    "\n",
    "    def canFinishSmall(self, numCourses: int, prerequisites: List[List[int]]) -> bool:\n",
    "        pass"
   ]
  },
  {
   "cell_type": "code",
   "execution_count": 34,
   "metadata": {},
   "outputs": [
    {
     "name": "stdout",
     "output_type": "stream",
     "text": [
      "Testing Report for Function: Solution.canFinish\n",
      "================================================================================\n",
      "Summary:\n",
      "  Total Test Cases: 4\n",
      "  Passed: 4\n",
      "  Failed: 0\n",
      "================================================================================\n",
      "Testing Report for Function: Solution.canFinishSmall\n",
      "================================================================================\n",
      "Summary:\n",
      "  Total Test Cases: 4\n",
      "  Passed: 4\n",
      "  Failed: 0\n",
      "================================================================================\n"
     ]
    }
   ],
   "source": [
    "test_cases = [\n",
    "    TestCase((2, [[0, 1]],), True),\n",
    "    TestCase((2, [[0, 1], [1, 0]],), False),\n",
    "    TestCase((6, [[0, 1], [0, 3], [0, 5], [1, 2], [2, 4], [3, 4], [4, 5]]), True),\n",
    "    TestCase((6, [[0, 1], [0, 3], [0, 5], [1, 2], [2, 4], [3, 4], [4, 5], [5, 3]]), False)\n",
    "]\n",
    "Tester(Solution(), \"canFinish\")(test_cases)\n",
    "# Tester(Solution(), \"canFinishSmall\")(test_cases)"
   ]
  }
 ],
 "metadata": {
  "kernelspec": {
   "display_name": "play",
   "language": "python",
   "name": "python3"
  },
  "language_info": {
   "codemirror_mode": {
    "name": "ipython",
    "version": 3
   },
   "file_extension": ".py",
   "mimetype": "text/x-python",
   "name": "python",
   "nbconvert_exporter": "python",
   "pygments_lexer": "ipython3",
   "version": "3.8.20"
  }
 },
 "nbformat": 4,
 "nbformat_minor": 2
}
